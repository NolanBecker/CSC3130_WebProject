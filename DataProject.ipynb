{
 "cells": [
  {
   "cell_type": "markdown",
   "metadata": {},
   "source": [
    "## Creating a Web Data Project with Jupyter Notebooks\n",
    "******\n",
    "###### 1. Read in json file(s) resulting from your work with requests/selenium and beautifulsoup"
   ]
  },
  {
   "cell_type": "code",
   "execution_count": 5,
   "metadata": {
    "collapsed": false
   },
   "outputs": [],
   "source": [
    "############ QUESTIONS #############\n",
    "\n",
    "# For this project I want to look at the ratings of all the recipes I get and compare them to different types\n",
    "# of foods that are in the recipe, such as chicken, beef, etc.\n",
    "# Basically to see what the more popular/well liked recipes are.\n",
    "\n",
    "# I can also look at the authors of the recipes and see which ones are regular posters and which ones aren't,\n",
    "# which could be interesting.\n",
    "\n",
    "# I also wan't to know the serving size of each recipe in order to tell if people are more interested in meals\n",
    "# that they can make for multiple people (like a family) or just for themselves.\n",
    "# I am currently having trouble with this, however, as I can't seem to scrape the serving size right now. I am\n",
    "# still working on that.\n",
    "\n",
    "####################################"
   ]
  },
  {
   "cell_type": "code",
   "execution_count": null,
   "metadata": {
    "collapsed": true
   },
   "outputs": [],
   "source": []
  },
  {
   "cell_type": "code",
   "execution_count": 6,
   "metadata": {
    "collapsed": false
   },
   "outputs": [
    {
     "ename": "ModuleNotFoundError",
     "evalue": "No module named 'ijson'",
     "output_type": "error",
     "traceback": [
      "\u001b[0;31m---------------------------------------------------------------------------\u001b[0m",
      "\u001b[0;31mModuleNotFoundError\u001b[0m                       Traceback (most recent call last)",
      "\u001b[0;32m<ipython-input-6-a060de683b0e>\u001b[0m in \u001b[0;36m<module>\u001b[0;34m()\u001b[0m\n\u001b[1;32m      1\u001b[0m \u001b[0;31m# Import necessary packages\u001b[0m\u001b[0;34m\u001b[0m\u001b[0;34m\u001b[0m\u001b[0m\n\u001b[0;32m----> 2\u001b[0;31m \u001b[0;32mimport\u001b[0m \u001b[0mijson\u001b[0m \u001b[0;32mas\u001b[0m \u001b[0mij\u001b[0m\u001b[0;34m\u001b[0m\u001b[0m\n\u001b[0m\u001b[1;32m      3\u001b[0m \u001b[0;32mimport\u001b[0m \u001b[0mpandas\u001b[0m \u001b[0;32mas\u001b[0m \u001b[0mpd\u001b[0m\u001b[0;34m\u001b[0m\u001b[0m\n\u001b[1;32m      4\u001b[0m \u001b[0;32mimport\u001b[0m \u001b[0mnumpy\u001b[0m \u001b[0;32mas\u001b[0m \u001b[0mnp\u001b[0m\u001b[0;34m\u001b[0m\u001b[0m\n\u001b[1;32m      5\u001b[0m \u001b[0;32mimport\u001b[0m \u001b[0mmatplotlib\u001b[0m\u001b[0;34m\u001b[0m\u001b[0m\n",
      "\u001b[0;31mModuleNotFoundError\u001b[0m: No module named 'ijson'"
     ]
    }
   ],
   "source": [
    "# Import necessary packages\n",
    "import ijson as ij\n",
    "import pandas as pd\n",
    "import numpy as np\n",
    "import matplotlib\n",
    "import matplotlib.pyplot as plt\n",
    "%matplotlib inline\n",
    "\n",
    "# Read in json files and create dataframes\n",
    "filename = \"JSON/2017-04-11.json\"\n",
    "with open(filename, 'r') as f:\n",
    "    AllRecipes = ij.items(f, 'AllRecipes.item')\n",
    "    objectsAllRecipes = list(AllRecipes)\n",
    "with open(filename, 'r') as f:\n",
    "    Epicurious = ij.items(f, 'Epicurious.item')\n",
    "    objectsEpicurious = list(Epicurious)\n",
    "with open(filename, 'r') as f:\n",
    "    Delish = ij.items(f, 'Delish.item')\n",
    "    objectsDelish = list(Delish)"
   ]
  },
  {
   "cell_type": "code",
   "execution_count": null,
   "metadata": {
    "collapsed": true
   },
   "outputs": [],
   "source": [
    "dataAllRecipes = pd.DataFrame(objectsAllRecipes)\n",
    "dataEpicurious = pd.DataFrame(objectsEpicurious)\n",
    "dataDelish = pd.DataFrame(objectsDelish)"
   ]
  },
  {
   "cell_type": "code",
   "execution_count": null,
   "metadata": {
    "collapsed": true
   },
   "outputs": [],
   "source": [
    "filename = \"JSON/2017-04-06.json\"\n",
    "with open(filename, 'r') as f:\n",
    "    AllRecipes = ij.items(f, 'AllRecipes.item')\n",
    "    objectsAllRecipes = list(AllRecipes)\n",
    "with open(filename, 'r') as f:\n",
    "    Epicurious = ij.items(f, 'Epicurious.item')\n",
    "    objectsEpicurious = list(Epicurious)\n",
    "with open(filename, 'r') as f:\n",
    "    Delish = ij.items(f, 'Delish.item')\n",
    "    objectsDelish = list(Delish)"
   ]
  },
  {
   "cell_type": "code",
   "execution_count": null,
   "metadata": {
    "collapsed": true
   },
   "outputs": [],
   "source": [
    "dataAllRecipes2 = pd.DataFrame(objectsAllRecipes)\n",
    "dataEpicurious2 = pd.DataFrame(objectsEpicurious)\n",
    "dataDelish2 = pd.DataFrame(objectsDelish)"
   ]
  },
  {
   "cell_type": "code",
   "execution_count": null,
   "metadata": {
    "collapsed": false
   },
   "outputs": [],
   "source": [
    "dataDelish"
   ]
  },
  {
   "cell_type": "code",
   "execution_count": null,
   "metadata": {
    "collapsed": false
   },
   "outputs": [],
   "source": [
    "dataEpicurious"
   ]
  },
  {
   "cell_type": "code",
   "execution_count": null,
   "metadata": {
    "collapsed": false
   },
   "outputs": [],
   "source": [
    "dataAllRecipes"
   ]
  },
  {
   "cell_type": "code",
   "execution_count": null,
   "metadata": {
    "collapsed": true
   },
   "outputs": [],
   "source": []
  },
  {
   "cell_type": "code",
   "execution_count": null,
   "metadata": {
    "collapsed": true
   },
   "outputs": [],
   "source": []
  },
  {
   "cell_type": "markdown",
   "metadata": {},
   "source": [
    "###### 2. Clean the data column by column\n",
    "- Ensure that addresses (or other text data) are consistent \n",
    "- Eliminate string characters from numeric values \n",
    "- Exclude redundant data as appropriate"
   ]
  },
  {
   "cell_type": "code",
   "execution_count": null,
   "metadata": {
    "collapsed": true
   },
   "outputs": [],
   "source": [
    "# Clean up location data to ensure consistency\n"
   ]
  },
  {
   "cell_type": "code",
   "execution_count": null,
   "metadata": {
    "collapsed": false
   },
   "outputs": [],
   "source": [
    "# Show results of cleaning\n"
   ]
  },
  {
   "cell_type": "code",
   "execution_count": null,
   "metadata": {
    "collapsed": false
   },
   "outputs": [],
   "source": [
    "# Eliminate string characters from numeric data\n"
   ]
  },
  {
   "cell_type": "code",
   "execution_count": null,
   "metadata": {
    "collapsed": false
   },
   "outputs": [],
   "source": [
    "# Show results of cleaning"
   ]
  },
  {
   "cell_type": "code",
   "execution_count": null,
   "metadata": {
    "collapsed": false
   },
   "outputs": [],
   "source": [
    "# Exclude redundant rows\n",
    "noDupsDelish = dataDelish.drop_duplicates()\n",
    "noDupsEpic = dataEpicurious.drop_duplicates()\n",
    "noDupsAllR = dataAllRecipes.drop_duplicates()\n",
    "\n",
    "noDupsDelish2 = dataDelish2.drop_duplicates()\n",
    "noDupsEpic2 = dataEpicurious2.drop_duplicates()\n",
    "noDupsAllR2 = dataAllRecipes2.drop_duplicates()"
   ]
  },
  {
   "cell_type": "code",
   "execution_count": null,
   "metadata": {
    "collapsed": false
   },
   "outputs": [],
   "source": [
    "noDupsDelish"
   ]
  },
  {
   "cell_type": "code",
   "execution_count": null,
   "metadata": {
    "collapsed": false
   },
   "outputs": [],
   "source": [
    "noDupsEpic"
   ]
  },
  {
   "cell_type": "code",
   "execution_count": null,
   "metadata": {
    "collapsed": false
   },
   "outputs": [],
   "source": [
    "noDupsEpic2"
   ]
  },
  {
   "cell_type": "markdown",
   "metadata": {},
   "source": [
    "###### 3. Merge dataframes from separate json files as appropriate\n",
    "- Find the intersection of two (or more) sets\n",
    "- Compare the intersection with the newer set to find 'New Products'  \n",
    "    - When found, add the starting date\n",
    "- Compare the intersection with the older set to find 'Closed Products'  \n",
    "    - When found, add the closing date\n",
    "    - Compare closing date with starting date to find days on market      "
   ]
  },
  {
   "cell_type": "code",
   "execution_count": null,
   "metadata": {
    "collapsed": false
   },
   "outputs": [],
   "source": [
    "# Create the inner merge of the two dataframes\n",
    "dataInnerMerge = pd.merge(noDupsEpic, noDupsEpic2, \\\n",
    "                          on=['Name', 'Description'], \\\n",
    "                          how='inner')"
   ]
  },
  {
   "cell_type": "code",
   "execution_count": null,
   "metadata": {
    "collapsed": false
   },
   "outputs": [],
   "source": [
    "dataInnerMerge"
   ]
  },
  {
   "cell_type": "code",
   "execution_count": null,
   "metadata": {
    "collapsed": false
   },
   "outputs": [],
   "source": [
    "# Determine the set of 'new products'\n",
    "noDupsEpic['key1'] = 1\n",
    "dataInnerMerge['key2'] = 1\n",
    "newProducts = pd.merge(noDupsEpic, dataInnerMerge, \\\n",
    "                      on=['Name','Description'], \\\n",
    "                      how = 'left')\n",
    "\n",
    "# Create the associated dataframe\n",
    "newProducts = newProducts[newProducts.key2 != newProducts.key1]\n",
    "newProducts"
   ]
  },
  {
   "cell_type": "markdown",
   "metadata": {},
   "source": [
    "###### 4. Create visualizations\n",
    "- Histogram of Prices\n",
    "- Histogram of Days on Market\n",
    "- Scatter Diagram of Prices vs Days on Market\n",
    "- Pie Chart of New, Like New, Used"
   ]
  },
  {
   "cell_type": "code",
   "execution_count": null,
   "metadata": {
    "collapsed": false
   },
   "outputs": [],
   "source": [
    "# Create a histogram of Prices \n",
    "ratings = newProducts.Rating[newProducts['Rating'] > 0.0]\n",
    "# goodPrices = goodPrices[goodPrices < 1500.0]\n",
    "plt.hist(ratings)\n",
    "plt.title(\"Recipe Ratings\")\n",
    "plt.xlabel(\"Rating\")\n",
    "plt.ylabel(\"Frequency\")\n",
    "plt.show()\n",
    "\n",
    "#Temporary Data for Days on Market ... for Scatter Plot Example\n",
    "\n",
    "\n",
    "# Create a histogram of Days on Market\n",
    "\n",
    "\n",
    "# Create a Scatter Diagram of Prices vs Days on Market\n",
    "\n",
    "\n",
    "# Create a Pie Chart of New, Like New, and Used products\n",
    "\n",
    "\n"
   ]
  },
  {
   "cell_type": "markdown",
   "metadata": {},
   "source": [
    "###### 5. Trends from your data  \n",
    "- Search for specific brands and offer counts for each\n",
    "- Search for product types and offer counts for each\n",
    "- For each of the above (and other) give counts for day over day or week over week"
   ]
  },
  {
   "cell_type": "code",
   "execution_count": null,
   "metadata": {
    "collapsed": false
   },
   "outputs": [],
   "source": [
    "# List the products representing specific brands of your choosing\n",
    "# for each date provided\n",
    "\n",
    "\n",
    "# Create a bar chart of products by brand (for the brands chosen)\n",
    "\n",
    "\n",
    "\n",
    "# List the products of a specific type\n",
    "\n",
    "\n",
    "# Create a bar chart of products by specific type\n",
    "# for each date provided\n",
    "\n"
   ]
  },
  {
   "cell_type": "code",
   "execution_count": null,
   "metadata": {
    "collapsed": false
   },
   "outputs": [],
   "source": [
    "# Show resulting dataframes of interest"
   ]
  },
  {
   "cell_type": "code",
   "execution_count": null,
   "metadata": {
    "collapsed": true
   },
   "outputs": [],
   "source": []
  }
 ],
 "metadata": {
  "anaconda-cloud": {},
  "kernelspec": {
   "display_name": "Python 3",
   "language": "python",
   "name": "python3"
  },
  "language_info": {
   "codemirror_mode": {
    "name": "ipython",
    "version": 3
   },
   "file_extension": ".py",
   "mimetype": "text/x-python",
   "name": "python",
   "nbconvert_exporter": "python",
   "pygments_lexer": "ipython3",
   "version": "3.6.0"
  }
 },
 "nbformat": 4,
 "nbformat_minor": 0
}
